{
 "cells": [
  {
   "cell_type": "markdown",
   "metadata": {},
   "source": [
    "# Project 1 - Regression\n",
    "## Forecasting the number of motor insurance claims\n",
    "### This notebook uses the dateset *freMTPL2freq.csv*\n",
    "\n",
    "(c) Nuno António 2022 - Rev. 1.0"
   ]
  },
  {
   "cell_type": "markdown",
   "metadata": {},
   "source": [
    "## Dataset description\n",
    "\n",
    "- **IDpol**: The policy ID (used to link with the claims dataset).\n",
    "- **ClaimNb**: Number of claims during the exposure period.\n",
    "- **Exposure**: The exposure period.\n",
    "- **Area**: The area code.\n",
    "- **VehPower**: The power of the car (ordered categorical).\n",
    "- **VehAge**: The vehicle age, in years.\n",
    "- **DrivAge**: The driver age, in years (in France, people can drive a car at 18).\n",
    "- **BonusMalus**: Bonus/malus, between 50 and 350: <100 means bonus, >100 means malus in France.\n",
    "- **VehBrand**: The car brand (unknown categories).\n",
    "- **VehGas**: The car gas, Diesel or regular.\n",
    "- **Density**: The density of inhabitants (number of inhabitants per km2) in the city the driver of the car lives in.\n",
    "- **Region**: The policy regions in France (based on a standard French classification)\n",
    "\n",
    "For additional information on the dataset check https://papers.ssrn.com/sol3/papers.cfm?abstract_id=3164764"
   ]
  },
  {
   "cell_type": "markdown",
   "metadata": {},
   "source": [
    "## Work description\n",
    "\n",
    "### Overview\n",
    "<p>You should organize into groups of 3 to 5 students, where you will assume the role of a consultant. You are asked to develop a model to forecast how many claims will each policy holder from a car insurer in France have in the following year. The insurance company wants to use this model to improve the policies' premiums (pricing).</p>\n",
    "<p>Employing the CRISP-DM process model, you are expected to define, describe and explain the model built. Simultaneous, you should explain how your model can help the insurance company reaching its objectives.</p>\n",
    "\n",
    "### Questions or additional informations\n",
    "For any additional questions, don't hesitate to get in touch with the instructor. The instructor will also act as the insurance company/project stakeholder."
   ]
  },
  {
   "cell_type": "markdown",
   "metadata": {},
   "source": [
    "## Initializations and data loading"
   ]
  },
  {
   "cell_type": "code",
   "execution_count": 1,
   "metadata": {},
   "outputs": [
    {
     "data": {
      "text/plain": [
       "\"\\nDataset description\\n\\n- **IDpol**: The policy ID (used to link with the claims dataset).\\n- **ClaimNb**: Number of claims during the exposure period.\\n- **Exposure**: The exposure period.\\n- **Area**: The area code.\\n- **VehPower**: The power of the car (ordered categorical).\\n- **VehAge**: The vehicle age, in years.\\n- **DrivAge**: The driver age, in years (in France, people can drive a car at 18).\\n- **BonusMalus**: Bonus/malus, between 50 and 350: <100 means bonus, >100 means malus in France.\\n- **VehBrand**: The car brand (unknown categories).\\n- **VehGas**: The car gas, Diesel or regular.\\n- **Density**: The density of inhabitants (number of inhabitants per km2) in the city the driver of the car lives in.\\n- **Region**: The policy regions in France (based on a standard French classification)\\n\\nFor additional information on the dataset check https://papers.ssrn.com/sol3/papers.cfm?abstract_id=3164764\\n\\nWork description\\nwhere you will assume the role of a consultant. \\nYou are asked to develop a model to forecast how many claims will each policy holder from a car insurer in France have in the following year.\\nThe insurance company wants to use this model to improve the policies' premiums (pricing).\\nEmploying the CRISP-DM process model, you are expected to define, describe and explain the model built. \\nSimultaneous, you should explain how your model can help the insurance company reaching its objectives.</p>\\n\\n\""
      ]
     },
     "execution_count": 1,
     "metadata": {},
     "output_type": "execute_result"
    }
   ],
   "source": [
    "\"\"\"\n",
    "Dataset description\n",
    "\n",
    "- **IDpol**: The policy ID (used to link with the claims dataset).\n",
    "- **ClaimNb**: Number of claims during the exposure period.\n",
    "- **Exposure**: The exposure period.\n",
    "- **Area**: The area code.\n",
    "- **VehPower**: The power of the car (ordered categorical).\n",
    "- **VehAge**: The vehicle age, in years.\n",
    "- **DrivAge**: The driver age, in years (in France, people can drive a car at 18).\n",
    "- **BonusMalus**: Bonus/malus, between 50 and 350: <100 means bonus, >100 means malus in France.\n",
    "- **VehBrand**: The car brand (unknown categories).\n",
    "- **VehGas**: The car gas, Diesel or regular.\n",
    "- **Density**: The density of inhabitants (number of inhabitants per km2) in the city the driver of the car lives in.\n",
    "- **Region**: The policy regions in France (based on a standard French classification)\n",
    "\n",
    "For additional information on the dataset check https://papers.ssrn.com/sol3/papers.cfm?abstract_id=3164764\n",
    "\n",
    "Work description\n",
    "where you will assume the role of a consultant. \n",
    "You are asked to develop a model to forecast how many claims will each policy holder from a car insurer in France have in the following year.\n",
    "The insurance company wants to use this model to improve the policies' premiums (pricing).\n",
    "Employing the CRISP-DM process model, you are expected to define, describe and explain the model built. \n",
    "Simultaneous, you should explain how your model can help the insurance company reaching its objectives.</p>\n",
    "\n",
    "\"\"\""
   ]
  },
  {
   "cell_type": "code",
   "execution_count": 2,
   "metadata": {},
   "outputs": [],
   "source": [
    "# Loading packages\n",
    "import pandas as pd"
   ]
  },
  {
   "cell_type": "code",
   "execution_count": 3,
   "metadata": {},
   "outputs": [
    {
     "name": "stderr",
     "output_type": "stream",
     "text": [
      "C:\\Users\\João Carlos Fidalgo\\AppData\\Local\\Temp\\ipykernel_51432\\3374236374.py:2: DtypeWarning: Columns (0) have mixed types. Specify dtype option on import or set low_memory=False.\n",
      "  ds = pd.read_csv(\"freMTPL2freq.csv\", sep=\";\")\n"
     ]
    },
    {
     "data": {
      "text/html": [
       "<div>\n",
       "<style scoped>\n",
       "    .dataframe tbody tr th:only-of-type {\n",
       "        vertical-align: middle;\n",
       "    }\n",
       "\n",
       "    .dataframe tbody tr th {\n",
       "        vertical-align: top;\n",
       "    }\n",
       "\n",
       "    .dataframe thead th {\n",
       "        text-align: right;\n",
       "    }\n",
       "</style>\n",
       "<table border=\"1\" class=\"dataframe\">\n",
       "  <thead>\n",
       "    <tr style=\"text-align: right;\">\n",
       "      <th></th>\n",
       "      <th>count</th>\n",
       "      <th>unique</th>\n",
       "      <th>top</th>\n",
       "      <th>freq</th>\n",
       "      <th>mean</th>\n",
       "      <th>std</th>\n",
       "      <th>min</th>\n",
       "      <th>25%</th>\n",
       "      <th>50%</th>\n",
       "      <th>75%</th>\n",
       "      <th>max</th>\n",
       "    </tr>\n",
       "  </thead>\n",
       "  <tbody>\n",
       "    <tr>\n",
       "      <th>IDpol</th>\n",
       "      <td>678013</td>\n",
       "      <td>678013</td>\n",
       "      <td>1</td>\n",
       "      <td>1</td>\n",
       "      <td>NaN</td>\n",
       "      <td>NaN</td>\n",
       "      <td>NaN</td>\n",
       "      <td>NaN</td>\n",
       "      <td>NaN</td>\n",
       "      <td>NaN</td>\n",
       "      <td>NaN</td>\n",
       "    </tr>\n",
       "    <tr>\n",
       "      <th>ClaimNb</th>\n",
       "      <td>678013.0</td>\n",
       "      <td>NaN</td>\n",
       "      <td>NaN</td>\n",
       "      <td>NaN</td>\n",
       "      <td>0.053247</td>\n",
       "      <td>0.240117</td>\n",
       "      <td>0.0</td>\n",
       "      <td>0.0</td>\n",
       "      <td>0.0</td>\n",
       "      <td>0.0</td>\n",
       "      <td>16.0</td>\n",
       "    </tr>\n",
       "    <tr>\n",
       "      <th>Exposure</th>\n",
       "      <td>678013.0</td>\n",
       "      <td>NaN</td>\n",
       "      <td>NaN</td>\n",
       "      <td>NaN</td>\n",
       "      <td>0.52875</td>\n",
       "      <td>0.364442</td>\n",
       "      <td>0.002732</td>\n",
       "      <td>0.18</td>\n",
       "      <td>0.49</td>\n",
       "      <td>0.99</td>\n",
       "      <td>2.01</td>\n",
       "    </tr>\n",
       "    <tr>\n",
       "      <th>VehPower</th>\n",
       "      <td>678013.0</td>\n",
       "      <td>NaN</td>\n",
       "      <td>NaN</td>\n",
       "      <td>NaN</td>\n",
       "      <td>6.454631</td>\n",
       "      <td>2.050906</td>\n",
       "      <td>4.0</td>\n",
       "      <td>5.0</td>\n",
       "      <td>6.0</td>\n",
       "      <td>7.0</td>\n",
       "      <td>15.0</td>\n",
       "    </tr>\n",
       "    <tr>\n",
       "      <th>VehAge</th>\n",
       "      <td>678013.0</td>\n",
       "      <td>NaN</td>\n",
       "      <td>NaN</td>\n",
       "      <td>NaN</td>\n",
       "      <td>7.044265</td>\n",
       "      <td>5.666232</td>\n",
       "      <td>0.0</td>\n",
       "      <td>2.0</td>\n",
       "      <td>6.0</td>\n",
       "      <td>11.0</td>\n",
       "      <td>100.0</td>\n",
       "    </tr>\n",
       "    <tr>\n",
       "      <th>DrivAge</th>\n",
       "      <td>678013.0</td>\n",
       "      <td>NaN</td>\n",
       "      <td>NaN</td>\n",
       "      <td>NaN</td>\n",
       "      <td>45.499122</td>\n",
       "      <td>14.137444</td>\n",
       "      <td>18.0</td>\n",
       "      <td>34.0</td>\n",
       "      <td>44.0</td>\n",
       "      <td>55.0</td>\n",
       "      <td>100.0</td>\n",
       "    </tr>\n",
       "    <tr>\n",
       "      <th>BonusMalus</th>\n",
       "      <td>678013.0</td>\n",
       "      <td>NaN</td>\n",
       "      <td>NaN</td>\n",
       "      <td>NaN</td>\n",
       "      <td>59.761502</td>\n",
       "      <td>15.636658</td>\n",
       "      <td>50.0</td>\n",
       "      <td>50.0</td>\n",
       "      <td>50.0</td>\n",
       "      <td>64.0</td>\n",
       "      <td>230.0</td>\n",
       "    </tr>\n",
       "    <tr>\n",
       "      <th>Density</th>\n",
       "      <td>678013.0</td>\n",
       "      <td>NaN</td>\n",
       "      <td>NaN</td>\n",
       "      <td>NaN</td>\n",
       "      <td>1792.422405</td>\n",
       "      <td>3958.646564</td>\n",
       "      <td>1.0</td>\n",
       "      <td>92.0</td>\n",
       "      <td>393.0</td>\n",
       "      <td>1658.0</td>\n",
       "      <td>27000.0</td>\n",
       "    </tr>\n",
       "    <tr>\n",
       "      <th>Region</th>\n",
       "      <td>678013</td>\n",
       "      <td>22</td>\n",
       "      <td>R24</td>\n",
       "      <td>160601</td>\n",
       "      <td>NaN</td>\n",
       "      <td>NaN</td>\n",
       "      <td>NaN</td>\n",
       "      <td>NaN</td>\n",
       "      <td>NaN</td>\n",
       "      <td>NaN</td>\n",
       "      <td>NaN</td>\n",
       "    </tr>\n",
       "    <tr>\n",
       "      <th>Area</th>\n",
       "      <td>678013</td>\n",
       "      <td>6</td>\n",
       "      <td>C</td>\n",
       "      <td>191880</td>\n",
       "      <td>NaN</td>\n",
       "      <td>NaN</td>\n",
       "      <td>NaN</td>\n",
       "      <td>NaN</td>\n",
       "      <td>NaN</td>\n",
       "      <td>NaN</td>\n",
       "      <td>NaN</td>\n",
       "    </tr>\n",
       "    <tr>\n",
       "      <th>VehBrand</th>\n",
       "      <td>678013</td>\n",
       "      <td>11</td>\n",
       "      <td>B12</td>\n",
       "      <td>166024</td>\n",
       "      <td>NaN</td>\n",
       "      <td>NaN</td>\n",
       "      <td>NaN</td>\n",
       "      <td>NaN</td>\n",
       "      <td>NaN</td>\n",
       "      <td>NaN</td>\n",
       "      <td>NaN</td>\n",
       "    </tr>\n",
       "    <tr>\n",
       "      <th>VehGas</th>\n",
       "      <td>678013</td>\n",
       "      <td>2</td>\n",
       "      <td>Regular</td>\n",
       "      <td>345877</td>\n",
       "      <td>NaN</td>\n",
       "      <td>NaN</td>\n",
       "      <td>NaN</td>\n",
       "      <td>NaN</td>\n",
       "      <td>NaN</td>\n",
       "      <td>NaN</td>\n",
       "      <td>NaN</td>\n",
       "    </tr>\n",
       "  </tbody>\n",
       "</table>\n",
       "</div>"
      ],
      "text/plain": [
       "               count  unique      top    freq         mean          std  \\\n",
       "IDpol         678013  678013        1       1          NaN          NaN   \n",
       "ClaimNb     678013.0     NaN      NaN     NaN     0.053247     0.240117   \n",
       "Exposure    678013.0     NaN      NaN     NaN      0.52875     0.364442   \n",
       "VehPower    678013.0     NaN      NaN     NaN     6.454631     2.050906   \n",
       "VehAge      678013.0     NaN      NaN     NaN     7.044265     5.666232   \n",
       "DrivAge     678013.0     NaN      NaN     NaN    45.499122    14.137444   \n",
       "BonusMalus  678013.0     NaN      NaN     NaN    59.761502    15.636658   \n",
       "Density     678013.0     NaN      NaN     NaN  1792.422405  3958.646564   \n",
       "Region        678013      22      R24  160601          NaN          NaN   \n",
       "Area          678013       6        C  191880          NaN          NaN   \n",
       "VehBrand      678013      11      B12  166024          NaN          NaN   \n",
       "VehGas        678013       2  Regular  345877          NaN          NaN   \n",
       "\n",
       "                 min   25%    50%     75%      max  \n",
       "IDpol            NaN   NaN    NaN     NaN      NaN  \n",
       "ClaimNb          0.0   0.0    0.0     0.0     16.0  \n",
       "Exposure    0.002732  0.18   0.49    0.99     2.01  \n",
       "VehPower         4.0   5.0    6.0     7.0     15.0  \n",
       "VehAge           0.0   2.0    6.0    11.0    100.0  \n",
       "DrivAge         18.0  34.0   44.0    55.0    100.0  \n",
       "BonusMalus      50.0  50.0   50.0    64.0    230.0  \n",
       "Density          1.0  92.0  393.0  1658.0  27000.0  \n",
       "Region           NaN   NaN    NaN     NaN      NaN  \n",
       "Area             NaN   NaN    NaN     NaN      NaN  \n",
       "VehBrand         NaN   NaN    NaN     NaN      NaN  \n",
       "VehGas           NaN   NaN    NaN     NaN      NaN  "
      ]
     },
     "execution_count": 3,
     "metadata": {},
     "output_type": "execute_result"
    }
   ],
   "source": [
    "# Loading the dataset and visualizing summary statistics\n",
    "ds = pd.read_csv(\"freMTPL2freq.csv\", sep=\";\")\n",
    "ds.describe(include='all').T"
   ]
  },
  {
   "cell_type": "code",
   "execution_count": 4,
   "metadata": {},
   "outputs": [
    {
     "data": {
      "text/html": [
       "<div>\n",
       "<style scoped>\n",
       "    .dataframe tbody tr th:only-of-type {\n",
       "        vertical-align: middle;\n",
       "    }\n",
       "\n",
       "    .dataframe tbody tr th {\n",
       "        vertical-align: top;\n",
       "    }\n",
       "\n",
       "    .dataframe thead th {\n",
       "        text-align: right;\n",
       "    }\n",
       "</style>\n",
       "<table border=\"1\" class=\"dataframe\">\n",
       "  <thead>\n",
       "    <tr style=\"text-align: right;\">\n",
       "      <th></th>\n",
       "      <th>IDpol</th>\n",
       "      <th>ClaimNb</th>\n",
       "      <th>Exposure</th>\n",
       "      <th>VehPower</th>\n",
       "      <th>VehAge</th>\n",
       "      <th>DrivAge</th>\n",
       "      <th>BonusMalus</th>\n",
       "      <th>Density</th>\n",
       "      <th>Region</th>\n",
       "      <th>Area</th>\n",
       "      <th>VehBrand</th>\n",
       "      <th>VehGas</th>\n",
       "    </tr>\n",
       "  </thead>\n",
       "  <tbody>\n",
       "    <tr>\n",
       "      <th>0</th>\n",
       "      <td>1</td>\n",
       "      <td>1</td>\n",
       "      <td>0.10</td>\n",
       "      <td>5</td>\n",
       "      <td>0</td>\n",
       "      <td>55</td>\n",
       "      <td>50</td>\n",
       "      <td>1217</td>\n",
       "      <td>R82</td>\n",
       "      <td>D</td>\n",
       "      <td>B12</td>\n",
       "      <td>Regular</td>\n",
       "    </tr>\n",
       "    <tr>\n",
       "      <th>1</th>\n",
       "      <td>3</td>\n",
       "      <td>1</td>\n",
       "      <td>0.77</td>\n",
       "      <td>5</td>\n",
       "      <td>0</td>\n",
       "      <td>55</td>\n",
       "      <td>50</td>\n",
       "      <td>1217</td>\n",
       "      <td>R82</td>\n",
       "      <td>D</td>\n",
       "      <td>B12</td>\n",
       "      <td>Regular</td>\n",
       "    </tr>\n",
       "    <tr>\n",
       "      <th>2</th>\n",
       "      <td>5</td>\n",
       "      <td>1</td>\n",
       "      <td>0.75</td>\n",
       "      <td>6</td>\n",
       "      <td>2</td>\n",
       "      <td>52</td>\n",
       "      <td>50</td>\n",
       "      <td>54</td>\n",
       "      <td>R22</td>\n",
       "      <td>B</td>\n",
       "      <td>B12</td>\n",
       "      <td>Diesel</td>\n",
       "    </tr>\n",
       "    <tr>\n",
       "      <th>3</th>\n",
       "      <td>10</td>\n",
       "      <td>1</td>\n",
       "      <td>0.09</td>\n",
       "      <td>7</td>\n",
       "      <td>0</td>\n",
       "      <td>46</td>\n",
       "      <td>50</td>\n",
       "      <td>76</td>\n",
       "      <td>R72</td>\n",
       "      <td>B</td>\n",
       "      <td>B12</td>\n",
       "      <td>Diesel</td>\n",
       "    </tr>\n",
       "    <tr>\n",
       "      <th>4</th>\n",
       "      <td>11</td>\n",
       "      <td>1</td>\n",
       "      <td>0.84</td>\n",
       "      <td>7</td>\n",
       "      <td>0</td>\n",
       "      <td>46</td>\n",
       "      <td>50</td>\n",
       "      <td>76</td>\n",
       "      <td>R72</td>\n",
       "      <td>B</td>\n",
       "      <td>B12</td>\n",
       "      <td>Diesel</td>\n",
       "    </tr>\n",
       "  </tbody>\n",
       "</table>\n",
       "</div>"
      ],
      "text/plain": [
       "  IDpol  ClaimNb  Exposure  VehPower  VehAge  DrivAge  BonusMalus  Density  \\\n",
       "0     1        1      0.10         5       0       55          50     1217   \n",
       "1     3        1      0.77         5       0       55          50     1217   \n",
       "2     5        1      0.75         6       2       52          50       54   \n",
       "3    10        1      0.09         7       0       46          50       76   \n",
       "4    11        1      0.84         7       0       46          50       76   \n",
       "\n",
       "  Region Area VehBrand   VehGas  \n",
       "0    R82    D      B12  Regular  \n",
       "1    R82    D      B12  Regular  \n",
       "2    R22    B      B12   Diesel  \n",
       "3    R72    B      B12   Diesel  \n",
       "4    R72    B      B12   Diesel  "
      ]
     },
     "execution_count": 4,
     "metadata": {},
     "output_type": "execute_result"
    }
   ],
   "source": [
    "# Show top rows\n",
    "ds.head()"
   ]
  },
  {
   "cell_type": "markdown",
   "metadata": {},
   "source": [
    "Importing packages"
   ]
  },
  {
   "cell_type": "code",
   "execution_count": 5,
   "metadata": {},
   "outputs": [
    {
     "name": "stdout",
     "output_type": "stream",
     "text": [
      "[[1.000000e+00 1.000000e-01 5.000000e+00 ... 5.500000e+01 5.000000e+01\n",
      "  1.217000e+03]\n",
      " [1.000000e+00 7.700000e-01 5.000000e+00 ... 5.500000e+01 5.000000e+01\n",
      "  1.217000e+03]\n",
      " [1.000000e+00 7.500000e-01 6.000000e+00 ... 5.200000e+01 5.000000e+01\n",
      "  5.400000e+01]\n",
      " ...\n",
      " [0.000000e+00 2.739726e-03 6.000000e+00 ... 4.500000e+01 5.000000e+01\n",
      "  1.323000e+03]\n",
      " [0.000000e+00 2.739726e-03 4.000000e+00 ... 6.000000e+01 5.000000e+01\n",
      "  9.500000e+01]\n",
      " [0.000000e+00 2.739726e-03 7.000000e+00 ... 2.900000e+01 5.400000e+01\n",
      "  6.500000e+01]]\n",
      "[1 1 1 ... 0 0 0]\n"
     ]
    }
   ],
   "source": [
    "## develop a model to forecast how many claims will each policy holder from a car insurer in France have in the following year.\n",
    "# Importing packages\n",
    "from traceback import print_tb\n",
    "import numpy as np\n",
    "import matplotlib.pyplot as plt\n",
    "import seaborn as sns\n",
    "import statsmodels.api as sm\n",
    "import statsmodels.formula.api as smf\n",
    "from sklearn.model_selection import train_test_split\n",
    "from sklearn.linear_model import LinearRegression\n",
    "from sklearn.metrics import mean_squared_error, r2_score\n",
    "from sklearn.preprocessing import StandardScaler\n",
    "from sklearn.preprocessing import PolynomialFeatures\n",
    "from sklearn.linear_model import Ridge\n",
    "from sklearn.linear_model import Lasso\n",
    "from sklearn.linear_model import ElasticNet\n",
    "\n",
    "# Splitting the dataset into the Training set and Test set\n",
    "#  area, vehbrand , vehgas, region are string values\n",
    "ds['Area'] = ds['Area'].astype(str)\n",
    "ds['VehBrand'] = ds['VehBrand'].astype(str)\n",
    "ds['VehGas'] = ds['VehGas'].astype(str)\n",
    "ds['Region'] = ds['Region'].astype(str)\n",
    "\n",
    "# data preparation for the model: \n",
    "# #reshape the dataset to be used in the model.\n",
    "X = ds.iloc[:, 1:8].values\n",
    "y = ds.iloc[:, 1].values\n",
    "\n",
    "print(X)\n",
    "print(y)"
   ]
  },
  {
   "cell_type": "markdown",
   "metadata": {},
   "source": [
    "Scaling"
   ]
  },
  {
   "cell_type": "code",
   "execution_count": 6,
   "metadata": {},
   "outputs": [],
   "source": [
    "# Splitting the dataset into the Training set and Test set\n",
    "X_train, X_test, y_train, y_test = train_test_split(X, y, test_size = 0.2, random_state = 0)\n",
    "\n",
    "# Feature Scaling\n",
    "sc = StandardScaler()\n",
    "\n",
    "#fit_transform() method is used to fit the scaler to the training data and then transform it.\n",
    "X_train = sc.fit_transform(X_train)\n",
    "#transform() method is used to transform the test data.\n",
    "X_test = sc.transform(X_test)\n",
    "\n",
    "\n",
    "\n"
   ]
  },
  {
   "cell_type": "markdown",
   "metadata": {},
   "source": [
    "Linear Regression "
   ]
  },
  {
   "cell_type": "code",
   "execution_count": 7,
   "metadata": {},
   "outputs": [
    {
     "name": "stdout",
     "output_type": "stream",
     "text": [
      "Mean squared error: 0.00\n",
      "Coefficient of determination: 1.00\n"
     ]
    },
    {
     "data": {
      "image/png": "[encoded data removed]",
      "text/plain": [
       "<Figure size 640x480 with 1 Axes>"
      ]
     },
     "metadata": {},
     "output_type": "display_data"
    },
    {
     "data": {
      "image/png": "[encoded data removed]",
      "text/plain": [
       "<Figure size 640x480 with 1 Axes>"
      ]
     },
     "metadata": {},
     "output_type": "display_data"
    }
   ],
   "source": [
    "# Fitting Multiple Linear Regression to the Training set\n",
    "regressor = LinearRegression()\n",
    "regressor.fit(X_train, y_train)\n",
    "\n",
    "# Predicting the Test set results\n",
    "y_pred = regressor.predict(X_test)\n",
    "\n",
    "# Evaluating the Model Performance\n",
    "print('Mean squared error: %.2f' % mean_squared_error(y_test, y_pred))\n",
    "print('Coefficient of determination: %.2f' % r2_score(y_test, y_pred))\n",
    "\n",
    "# Visualising the Training set results\n",
    "plt.scatter(y_train, regressor.predict(X_train), color = 'red')\n",
    "plt.title('Claims vs Predicted Claims (Training set)')\n",
    "plt.xlabel('Claims')\n",
    "plt.ylabel('Predicted Claims')\n",
    "plt.show()\n",
    "\n",
    "# Visualising the Test set results\n",
    "plt.scatter(y_test, y_pred, color = 'red')\n",
    "plt.title('Claims vs Predicted Claims (Test set)')\n",
    "plt.xlabel('Claims')\n",
    "plt.ylabel('Predicted Claims')\n",
    "plt.show()"
   ]
  },
  {
   "cell_type": "markdown",
   "metadata": {},
   "source": [
    "Polynomial Regression"
   ]
  },
  {
   "cell_type": "code",
   "execution_count": 8,
   "metadata": {},
   "outputs": [
    {
     "name": "stdout",
     "output_type": "stream",
     "text": [
      "Mean squared error: 0.00\n",
      "Coefficient of determination: 1.00\n"
     ]
    },
    {
     "data": {
      "image/png": "[encoded data removed]",
      "text/plain": [
       "<Figure size 640x480 with 1 Axes>"
      ]
     },
     "metadata": {},
     "output_type": "display_data"
    },
    {
     "data": {
      "image/png": "[encoded data removed]",
      "text/plain": [
       "<Figure size 640x480 with 1 Axes>"
      ]
     },
     "metadata": {},
     "output_type": "display_data"
    }
   ],
   "source": [
    "# Fitting Polynomial Regression to the dataset\n",
    "poly_reg = PolynomialFeatures(degree = 4) # degree = 4 is the best degree for the model because it has the lowest MSE and highest R2 score \n",
    "X_poly = poly_reg.fit_transform(X_train)\n",
    "poly_reg.fit(X_poly, y_train)\n",
    "lin_reg_2 = LinearRegression()\n",
    "lin_reg_2.fit(X_poly, y_train)\n",
    "\n",
    "# Predicting a new result with Polynomial Regression\n",
    "y_pred = lin_reg_2.predict(poly_reg.fit_transform(X_test))\n",
    "\n",
    "# Evaluating the Model Performance\n",
    "print('Mean squared error: %.2f' % mean_squared_error(y_test, y_pred))\n",
    "print('Coefficient of determination: %.2f' % r2_score(y_test, y_pred))\n",
    "\n",
    "# Visualising the Training set results\n",
    "plt.scatter(y_train, lin_reg_2.predict(poly_reg.fit_transform(X_train)), color = 'red')\n",
    "plt.title('Claims vs Predicted Claims (Training set)')\n",
    "plt.xlabel('Claims')\n",
    "plt.ylabel('Predicted Claims')\n",
    "plt.show()\n",
    "\n",
    "# Visualising the Test set results\n",
    "plt.scatter(y_test, y_pred, color = 'red')\n",
    "plt.title('Claims vs Predicted Claims (Test set)')\n",
    "plt.xlabel('Claims')\n",
    "plt.ylabel('Predicted Claims')\n",
    "plt.show()\n"
   ]
  },
  {
   "cell_type": "code",
   "execution_count": 9,
   "metadata": {},
   "outputs": [
    {
     "name": "stderr",
     "output_type": "stream",
     "text": [
      "c:\\Users\\João Carlos Fidalgo\\OneDrive - Banco de Cabo Verde\\Pós-Graduação_ Data_science\\datascience-env\\lib\\site-packages\\sklearn\\linear_model\\_base.py:141: FutureWarning: 'normalize' was deprecated in version 1.0 and will be removed in 1.2.\n",
      "If you wish to scale the data, use Pipeline with a StandardScaler in a preprocessing stage. To reproduce the previous behavior:\n",
      "\n",
      "from sklearn.pipeline import make_pipeline\n",
      "\n",
      "model = make_pipeline(StandardScaler(with_mean=False), Ridge())\n",
      "\n",
      "If you wish to pass a sample_weight parameter, you need to pass it as a fit parameter to each step of the pipeline as follows:\n",
      "\n",
      "kwargs = {s[0] + '__sample_weight': sample_weight for s in model.steps}\n",
      "model.fit(X, y, **kwargs)\n",
      "\n",
      "Set parameter alpha to: original_alpha * n_samples. \n",
      "  warnings.warn(\n"
     ]
    },
    {
     "name": "stdout",
     "output_type": "stream",
     "text": [
      "Mean squared error: 0.01\n",
      "Coefficient of determination: 0.89\n"
     ]
    },
    {
     "data": {
      "image/png": "[encoded data removed]",
      "text/plain": [
       "<Figure size 640x480 with 1 Axes>"
      ]
     },
     "metadata": {},
     "output_type": "display_data"
    }
   ],
   "source": [
    "\n",
    "# Fitting Ridge Regression to the dataset\n",
    "ridge_reg = Ridge(alpha=0.5, normalize=True)\n",
    "ridge_reg.fit(X_train, y_train)\n",
    "\n",
    "# Predicting a new result with Ridge Regression\n",
    "y_pred = ridge_reg.predict(X_test)\n",
    "\n",
    "# Evaluating the Model Performance\n",
    "print('Mean squared error: %.2f' % mean_squared_error(y_test, y_pred))\n",
    "print('Coefficient of determination: %.2f' % r2_score(y_test, y_pred))\n",
    "\n",
    "# Visualising the Training set results\n",
    "plt.scatter(y_train, ridge_reg.predict(X_train), color = 'red')\n",
    "plt.title('Claims vs Predicted Claims (Training set)')\n",
    "plt.xlabel('Claims')\n",
    "plt.ylabel('Predicted Claims')\n",
    "plt.show()\n"
   ]
  },
  {
   "cell_type": "code",
   "execution_count": null,
   "metadata": {},
   "outputs": [],
   "source": [
    "#data preparation for the model:\n",
    "#reshape the dataset to be used in the model."
   ]
  }
 ],
 "metadata": {
  "kernelspec": {
   "display_name": "Python 3.9.13 ('datascience-env': venv)",
   "language": "python",
   "name": "python3"
  },
  "language_info": {
   "codemirror_mode": {
    "name": "ipython",
    "version": 3
   },
   "file_extension": ".py",
   "mimetype": "text/x-python",
   "name": "python",
   "nbconvert_exporter": "python",
   "pygments_lexer": "ipython3",
   "version": "3.9.13"
  },
  "orig_nbformat": 4,
  "vscode": {
   "interpreter": {
    "hash": "cab0ad6e9fc2bb6ef307a935742d7ef0ff84f1c3a33dde2b8329b3fbf3724416"
   }
  }
 },
 "nbformat": 4,
 "nbformat_minor": 2
}
